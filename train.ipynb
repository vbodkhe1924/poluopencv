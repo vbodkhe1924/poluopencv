{
  "cells": [
    {
      "cell_type": "code",
      "execution_count": null,
      "id": "5c1ee9ab-720c-4595-8e81-c56e5e92782f",
      "metadata": {
        "id": "5c1ee9ab-720c-4595-8e81-c56e5e92782f"
      },
      "outputs": [],
      "source": [
        "import tensorflow as tf\n"
      ]
    },
    {
      "cell_type": "code",
      "execution_count": null,
      "id": "bf9086ec-7311-405d-9e01-53548f0151b4",
      "metadata": {
        "id": "bf9086ec-7311-405d-9e01-53548f0151b4"
      },
      "outputs": [],
      "source": [
        "from tensorflow.keras.preprocessing import image"
      ]
    },
    {
      "cell_type": "code",
      "execution_count": null,
      "id": "afba7a97-80a4-4a56-8102-3bf4d47fa1bf",
      "metadata": {
        "id": "afba7a97-80a4-4a56-8102-3bf4d47fa1bf"
      },
      "outputs": [],
      "source": [
        "from tensorflow.keras.applications.vgg16 import VGG16, preprocess_input"
      ]
    },
    {
      "cell_type": "code",
      "execution_count": null,
      "id": "894caef6-5cb3-48ab-97ef-7e22eb9ab088",
      "metadata": {
        "id": "894caef6-5cb3-48ab-97ef-7e22eb9ab088"
      },
      "outputs": [],
      "source": [
        "from tensorflow.keras.models import Model"
      ]
    },
    {
      "cell_type": "code",
      "execution_count": null,
      "id": "f9c3c691-68fd-4df8-8086-da3e7e37cb6f",
      "metadata": {
        "id": "f9c3c691-68fd-4df8-8086-da3e7e37cb6f"
      },
      "outputs": [],
      "source": [
        "import numpy as np\n"
      ]
    },
    {
      "cell_type": "code",
      "execution_count": null,
      "id": "5c8a84c5-8b02-4886-b1f9-5f80b6a01aff",
      "metadata": {
        "colab": {
          "base_uri": "https://localhost:8080/"
        },
        "id": "5c8a84c5-8b02-4886-b1f9-5f80b6a01aff",
        "outputId": "36ca1f89-1c51-4f9f-ca9e-e4be73692f52"
      },
      "outputs": [
        {
          "output_type": "stream",
          "name": "stdout",
          "text": [
            "Requirement already satisfied: pillow in /usr/local/lib/python3.10/dist-packages (9.4.0)\n"
          ]
        }
      ],
      "source": [
        "pip install pillow\n"
      ]
    },
    {
      "cell_type": "code",
      "execution_count": null,
      "id": "f37b9e5d-1d2e-49dd-9d4a-0ef59f80cbb4",
      "metadata": {
        "colab": {
          "base_uri": "https://localhost:8080/"
        },
        "id": "f37b9e5d-1d2e-49dd-9d4a-0ef59f80cbb4",
        "outputId": "76f2cc5e-3843-4469-9f16-ce6faba7562e"
      },
      "outputs": [
        {
          "output_type": "stream",
          "name": "stdout",
          "text": [
            "1/1 [==============================] - 1s 742ms/step\n",
            "1/1 [==============================] - 1s 583ms/step\n",
            "1/1 [==============================] - 1s 598ms/step\n",
            "1/1 [==============================] - 1s 595ms/step\n",
            "1/1 [==============================] - 1s 569ms/step\n",
            "1/1 [==============================] - 1s 577ms/step\n",
            "1/1 [==============================] - 1s 563ms/step\n",
            "1/1 [==============================] - 1s 562ms/step\n",
            "1/1 [==============================] - 1s 567ms/step\n",
            "1/1 [==============================] - 1s 606ms/step\n",
            "1/1 [==============================] - 1s 936ms/step\n",
            "1/1 [==============================] - 1s 944ms/step\n",
            "1/1 [==============================] - 1s 621ms/step\n",
            "1/1 [==============================] - 1s 563ms/step\n",
            "1/1 [==============================] - 1s 554ms/step\n",
            "1/1 [==============================] - 1s 571ms/step\n",
            "1/1 [==============================] - 1s 563ms/step\n",
            "1/1 [==============================] - 1s 574ms/step\n",
            "1/1 [==============================] - 1s 571ms/step\n",
            "1/1 [==============================] - 1s 549ms/step\n",
            "1/1 [==============================] - 1s 571ms/step\n",
            "1/1 [==============================] - 1s 555ms/step\n",
            "1/1 [==============================] - 1s 568ms/step\n",
            "1/1 [==============================] - 1s 571ms/step\n",
            "Similarity Score with Imagedevanshkhodaskar.jpg: 0.5606312155723572\n",
            "Similarity Score with Imageakshatmodi.jpg: 0.3358699679374695\n",
            "Similarity Score with Imageshraddhabhisikar.jpg: 0.4695082902908325\n",
            "Similarity Score with Imageachintyagoyal.jpg: 0.6173169612884521\n",
            "Similarity Score with Imagemohammadadnandalal.jpg: 0.37275418639183044\n",
            "Similarity Score with Imagesanvitripathi.jpg: 0.33121854066848755\n",
            "Similarity Score with Imageadityakayasth.jpg: 0.6749918460845947\n",
            "Similarity Score with Imagekrishnavijaywargia.jpg: 0.4822261333465576\n",
            "Similarity Score with Imagejaygupta.jpg: 0.5548799633979797\n",
            "Similarity Score with Imageharshitsahu.jpg: 0.3619999885559082\n",
            "Similarity Score with Imagearpitasingh.jpg: 0.5431944131851196\n",
            "Similarity Score with Imageshreyashchoudhary.jpg: 0.5149425268173218\n",
            "Similarity Score with Imageakshaymundle.jpg: 0.50746089220047\n",
            "Similarity Score with Imageomchillure.jpg: 0.5559105277061462\n",
            "Similarity Score with Imagepriyanshuchakole.jpg: 0.700401782989502\n",
            "Similarity Score with Imageprathmeshagrawal.jpg: 0.4691004157066345\n",
            "Similarity Score with Imagetejassingh.jpg: 0.3945992588996887\n",
            "Similarity Score with Imagekunalekare.jpg: 0.28467825055122375\n",
            "Similarity Score with Imageramgandhewar.jpg: 0.3527359962463379\n",
            "Similarity Score with Imagevarnanrathod.jpg: 0.42327073216438293\n",
            "Similarity Score with Imageatharvarakshak.jpg: 0.5736111402511597\n",
            "Similarity Score with Imageakshatakatole.jpg: 0.5682098269462585\n",
            "Similarity Score with Imageshayan.jpg: 0.3878096342086792\n"
          ]
        }
      ],
      "source": [
        "import tensorflow as tf\n",
        "from tensorflow.keras.preprocessing import image\n",
        "from tensorflow.keras.applications.vgg16 import VGG16, preprocess_input\n",
        "from tensorflow.keras.models import Model\n",
        "import numpy as np\n",
        "\n",
        "base_model = VGG16(weights='imagenet')\n",
        "\n",
        "model = Model(inputs=base_model.input, outputs=base_model.get_layer('fc2').output)\n",
        "\n",
        "def preprocess_image(img_path):\n",
        "    # Load and preprocess the image\n",
        "    img = image.load_img(img_path, target_size=(224, 224))\n",
        "    img_array = image.img_to_array(img)\n",
        "    img_array = np.expand_dims(img_array, axis=0)\n",
        "    img_array = preprocess_input(img_array)\n",
        "    return img_array\n",
        "\n",
        "def get_image_features(img_path):\n",
        "    img_array = preprocess_image(img_path)\n",
        "    features = model.predict(img_array)\n",
        "    return features\n",
        "\n",
        "def compare_images(img_path1, img_paths):\n",
        "    features1 = get_image_features(img_path1)\n",
        "    similarities = []\n",
        "\n",
        "    for img_path2 in img_paths:\n",
        "        features2 = get_image_features(img_path2)\n",
        "\n",
        "        # Compute cosine similarity\n",
        "        similarity = np.dot(features1.flatten(), features2.flatten()) / (np.linalg.norm(features1) * np.linalg.norm(features2))\n",
        "        similarities.append(similarity)\n",
        "\n",
        "    return similarities\n",
        "#level 1 = lamp\n",
        "#level 2 = hall\n",
        "#level 3 = ai\n",
        "# image1_path = 'lamp.jpeg'\n",
        "image1_path = 'hall.jpeg'\n",
        "# image1_path = 'ai.jpg'\n",
        "# List of multiple images to compare with image1\n",
        "image_paths_to_compare = [\n",
        "  'devanshkhodaskar.jpg',\n",
        "  'akshatmodi.jpg',\n",
        "  'shraddhabhisikar.jpg',\n",
        "  'achintyagoyal.jpg',\n",
        "  'mohammadadnandalal.jpg',\n",
        "  'sanvitripathi.jpg',\n",
        "  'adityakayasth.jpg',\n",
        "  'krishnavijaywargia.jpg',\n",
        "  'jaygupta.jpg',\n",
        "  'harshitsahu.jpg',\n",
        "  'arpitasingh.jpg',\n",
        "  'shreyashchoudhary.jpg',\n",
        "  'akshaymundle.jpg',\n",
        "  'omchillure.jpg',\n",
        "  'priyanshuchakole.jpg',\n",
        "  'prathmeshagrawal.jpg',\n",
        "  'tejassingh.jpg',\n",
        "  'kunalekare.jpg',\n",
        "  'ramgandhewar.jpg',\n",
        "  'varnanrathod.jpg',\n",
        "  'atharvarakshak.jpg',\n",
        "  'akshatakatole.jpg',\n",
        "  'shayan.jpg'\n",
        "]\n",
        "similarity_scores = compare_images(image1_path, image_paths_to_compare)\n",
        "\n",
        "for i, similarity_score in enumerate(similarity_scores):\n",
        "    print(f\"Similarity Score with Image{image_paths_to_compare[i]}: {similarity_score}\")"
      ]
    },
    {
      "cell_type": "code",
      "execution_count": null,
      "id": "1e4eb87f-e140-48eb-af32-78219ee15845",
      "metadata": {
        "id": "1e4eb87f-e140-48eb-af32-78219ee15845"
      },
      "outputs": [],
      "source": []
    }
  ],
  "metadata": {
    "kernelspec": {
      "display_name": "Python 3 (ipykernel)",
      "language": "python",
      "name": "python3"
    },
    "language_info": {
      "codemirror_mode": {
        "name": "ipython",
        "version": 3
      },
      "file_extension": ".py",
      "mimetype": "text/x-python",
      "name": "python",
      "nbconvert_exporter": "python",
      "pygments_lexer": "ipython3",
      "version": "3.11.7"
    },
    "colab": {
      "provenance": []
    }
  },
  "nbformat": 4,
  "nbformat_minor": 5
}