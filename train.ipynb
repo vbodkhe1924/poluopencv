{
 "cells": [
  {
   "cell_type": "code",
   "execution_count": 3,
   "id": "5c1ee9ab-720c-4595-8e81-c56e5e92782f",
   "metadata": {},
   "outputs": [
    {
     "name": "stdout",
     "output_type": "stream",
     "text": [
      "WARNING:tensorflow:From E:\\polu\\poluopencv\\Lib\\site-packages\\keras\\src\\losses.py:2976: The name tf.losses.sparse_softmax_cross_entropy is deprecated. Please use tf.compat.v1.losses.sparse_softmax_cross_entropy instead.\n",
      "\n"
     ]
    }
   ],
   "source": [
    "import tensorflow as tf\n"
   ]
  },
  {
   "cell_type": "code",
   "execution_count": 4,
   "id": "bf9086ec-7311-405d-9e01-53548f0151b4",
   "metadata": {},
   "outputs": [],
   "source": [
    "from tensorflow.keras.preprocessing import image"
   ]
  },
  {
   "cell_type": "code",
   "execution_count": 5,
   "id": "afba7a97-80a4-4a56-8102-3bf4d47fa1bf",
   "metadata": {},
   "outputs": [],
   "source": [
    "from tensorflow.keras.applications.vgg16 import VGG16, preprocess_input"
   ]
  },
  {
   "cell_type": "code",
   "execution_count": 6,
   "id": "894caef6-5cb3-48ab-97ef-7e22eb9ab088",
   "metadata": {},
   "outputs": [],
   "source": [
    "from tensorflow.keras.models import Model"
   ]
  },
  {
   "cell_type": "code",
   "execution_count": 7,
   "id": "f9c3c691-68fd-4df8-8086-da3e7e37cb6f",
   "metadata": {},
   "outputs": [],
   "source": [
    "import numpy as np\n"
   ]
  },
  {
   "cell_type": "code",
   "execution_count": 10,
   "id": "5c8a84c5-8b02-4886-b1f9-5f80b6a01aff",
   "metadata": {},
   "outputs": [
    {
     "name": "stdout",
     "output_type": "stream",
     "text": [
      "Collecting Pillow\n",
      "  Obtaining dependency information for Pillow from https://files.pythonhosted.org/packages/43/56/f92715a873187b5eff72a4a0d2ac6258e18e9bfb0e136aafde65c49a841a/pillow-10.2.0-cp311-cp311-win_amd64.whl.metadata\n",
      "  Downloading pillow-10.2.0-cp311-cp311-win_amd64.whl.metadata (9.9 kB)\n",
      "Downloading pillow-10.2.0-cp311-cp311-win_amd64.whl (2.6 MB)\n",
      "   ---------------------------------------- 0.0/2.6 MB ? eta -:--:--\n",
      "   ---------------------------------------- 0.0/2.6 MB ? eta -:--:--\n",
      "   ---------------------------------------- 0.0/2.6 MB ? eta -:--:--\n",
      "   ---------------------------------------- 0.0/2.6 MB 640.0 kB/s eta 0:00:05\n",
      "   - -------------------------------------- 0.1/2.6 MB 651.6 kB/s eta 0:00:04\n",
      "   - -------------------------------------- 0.1/2.6 MB 717.5 kB/s eta 0:00:04\n",
      "   -- ------------------------------------- 0.2/2.6 MB 817.0 kB/s eta 0:00:04\n",
      "   --- ------------------------------------ 0.2/2.6 MB 1.0 MB/s eta 0:00:03\n",
      "   ----- ---------------------------------- 0.4/2.6 MB 1.2 MB/s eta 0:00:02\n",
      "   ------- -------------------------------- 0.5/2.6 MB 1.5 MB/s eta 0:00:02\n",
      "   ---------- ----------------------------- 0.7/2.6 MB 1.7 MB/s eta 0:00:02\n",
      "   ------------- -------------------------- 0.9/2.6 MB 2.0 MB/s eta 0:00:01\n",
      "   --------------- ------------------------ 1.0/2.6 MB 2.2 MB/s eta 0:00:01\n",
      "   ---------------- ----------------------- 1.1/2.6 MB 2.2 MB/s eta 0:00:01\n",
      "   ----------------------- ---------------- 1.6/2.6 MB 2.8 MB/s eta 0:00:01\n",
      "   ------------------------- -------------- 1.7/2.6 MB 2.7 MB/s eta 0:00:01\n",
      "   --------------------------- ------------ 1.8/2.6 MB 2.8 MB/s eta 0:00:01\n",
      "   ---------------------------- ----------- 1.9/2.6 MB 2.6 MB/s eta 0:00:01\n",
      "   ---------------------------------- ----- 2.3/2.6 MB 3.1 MB/s eta 0:00:01\n",
      "   -------------------------------------- - 2.5/2.6 MB 3.1 MB/s eta 0:00:01\n",
      "   ---------------------------------------- 2.6/2.6 MB 3.1 MB/s eta 0:00:00\n",
      "Installing collected packages: Pillow\n",
      "Successfully installed Pillow-10.2.0\n",
      "Note: you may need to restart the kernel to use updated packages.\n"
     ]
    },
    {
     "name": "stderr",
     "output_type": "stream",
     "text": [
      "\n",
      "[notice] A new release of pip is available: 23.2.1 -> 23.3.2\n",
      "[notice] To update, run: python.exe -m pip install --upgrade pip\n"
     ]
    }
   ],
   "source": [
    "pip install Pillow\n"
   ]
  },
  {
   "cell_type": "code",
   "execution_count": 5,
   "id": "f37b9e5d-1d2e-49dd-9d4a-0ef59f80cbb4",
   "metadata": {},
   "outputs": [
    {
     "name": "stdout",
     "output_type": "stream",
     "text": [
      "1/1 [==============================] - 0s 442ms/step\n",
      "1/1 [==============================] - 0s 283ms/step\n",
      "Similarity Score: 0.9999998807907104\n"
     ]
    }
   ],
   "source": [
    "import tensorflow as tf\n",
    "from tensorflow.keras.preprocessing import image\n",
    "from tensorflow.keras.applications.vgg16 import VGG16, preprocess_input\n",
    "from tensorflow.keras.models import Model\n",
    "import numpy as np\n",
    "base_model = VGG16(weights='imagenet')\n",
    "model = Model(inputs=base_model.input, outputs=base_model.get_layer('fc2').output)\n",
    "def preprocess_image(img_path):\n",
    "    img = image.load_img(img_path, target_size=(224, 224))\n",
    "    img_array = image.img_to_array(img)\n",
    "    img_array = np.expand_dims(img_array, axis=0)\n",
    "    img_array = preprocess_input(img_array)\n",
    "    return img_array\n",
    "    \n",
    "def get_image_features(img_path):\n",
    "    img_array = preprocess_image(img_path)\n",
    "    features = model.predict(img_array)\n",
    "    return features\n",
    "\n",
    "def compare_images(img_path1, img_path2):\n",
    "    features1 = get_image_features(img_path1)\n",
    "    features2 = get_image_features(img_path2)\n",
    "\n",
    "    similarity = np.dot(features1.flatten(), features2.flatten()) / (np.linalg.norm(features1) * np.linalg.norm(features2))\n",
    "\n",
    "    return similarity\n",
    "\n",
    "image1_path = 'j1.jpeg'\n",
    "image2_path = 'j1.jpeg'\n",
    "\n",
    "similarity_score = compare_images(image1_path, image2_path)\n",
    "print(f\"Similarity Score: {similarity_score}\")"
   ]
  },
  {
   "cell_type": "code",
   "execution_count": null,
   "id": "1e4eb87f-e140-48eb-af32-78219ee15845",
   "metadata": {},
   "outputs": [],
   "source": []
  }
 ],
 "metadata": {
  "kernelspec": {
   "display_name": "Python 3 (ipykernel)",
   "language": "python",
   "name": "python3"
  },
  "language_info": {
   "codemirror_mode": {
    "name": "ipython",
    "version": 3
   },
   "file_extension": ".py",
   "mimetype": "text/x-python",
   "name": "python",
   "nbconvert_exporter": "python",
   "pygments_lexer": "ipython3",
   "version": "3.11.7"
  }
 },
 "nbformat": 4,
 "nbformat_minor": 5
}
